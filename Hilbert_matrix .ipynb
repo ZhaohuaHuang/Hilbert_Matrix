{
 "cells": [
  {
   "cell_type": "markdown",
   "metadata": {},
   "source": [
    "#### Generate Hilbert matrix with list comprehension"
   ]
  },
  {
   "cell_type": "code",
   "execution_count": 4,
   "metadata": {},
   "outputs": [],
   "source": [
    "%precision 5\n",
    "def hilbertmatrix(a):\n",
    "    return [[1/(i+j+1) for j in range(a)] for i in range(a)]"
   ]
  },
  {
   "cell_type": "code",
   "execution_count": 5,
   "metadata": {},
   "outputs": [
    {
     "name": "stdout",
     "output_type": "stream",
     "text": [
      "[[1.0, 0.5, 0.3333333333333333, 0.25, 0.2, 0.16666666666666666, 0.14285714285714285], [0.5, 0.3333333333333333, 0.25, 0.2, 0.16666666666666666, 0.14285714285714285, 0.125], [0.3333333333333333, 0.25, 0.2, 0.16666666666666666, 0.14285714285714285, 0.125, 0.1111111111111111], [0.25, 0.2, 0.16666666666666666, 0.14285714285714285, 0.125, 0.1111111111111111, 0.1], [0.2, 0.16666666666666666, 0.14285714285714285, 0.125, 0.1111111111111111, 0.1, 0.09090909090909091], [0.16666666666666666, 0.14285714285714285, 0.125, 0.1111111111111111, 0.1, 0.09090909090909091, 0.08333333333333333], [0.14285714285714285, 0.125, 0.1111111111111111, 0.1, 0.09090909090909091, 0.08333333333333333, 0.07692307692307693]]\n"
     ]
    }
   ],
   "source": [
    "print(hilbertmatrix(7))"
   ]
  },
  {
   "cell_type": "markdown",
   "metadata": {},
   "source": [
    "#### Check Hilbert matrix with function methods"
   ]
  },
  {
   "cell_type": "code",
   "execution_count": 3,
   "metadata": {},
   "outputs": [
    {
     "name": "stdout",
     "output_type": "stream",
     "text": [
      "Hilbert Matrix using scipy.linalg.hilbert:\n",
      "[[1.    0.5   0.333 0.25  0.2   0.167 0.143]\n",
      " [0.5   0.333 0.25  0.2   0.167 0.143 0.125]\n",
      " [0.333 0.25  0.2   0.167 0.143 0.125 0.111]\n",
      " [0.25  0.2   0.167 0.143 0.125 0.111 0.1  ]\n",
      " [0.2   0.167 0.143 0.125 0.111 0.1   0.091]\n",
      " [0.167 0.143 0.125 0.111 0.1   0.091 0.083]\n",
      " [0.143 0.125 0.111 0.1   0.091 0.083 0.077]]\n",
      "\n",
      "Difference between two matrices:\n",
      "[[0. 0. 0. 0. 0. 0. 0.]\n",
      " [0. 0. 0. 0. 0. 0. 0.]\n",
      " [0. 0. 0. 0. 0. 0. 0.]\n",
      " [0. 0. 0. 0. 0. 0. 0.]\n",
      " [0. 0. 0. 0. 0. 0. 0.]\n",
      " [0. 0. 0. 0. 0. 0. 0.]\n",
      " [0. 0. 0. 0. 0. 0. 0.]]\n"
     ]
    }
   ],
   "source": [
    "#check with scipy.linalg\n",
    "from scipy import linalg\n",
    "from scipy.linalg import hilbert\n",
    "%precision 3\n",
    "\n",
    "print('Hilbert Matrix using scipy.linalg.hilbert:')\n",
    "print(hilbert(7))\n",
    "print()\n",
    "print('Difference between two matrices:')\n",
    "print(hilbert(7)-hilbertmatrix(7))"
   ]
  },
  {
   "cell_type": "code",
   "execution_count": 4,
   "metadata": {},
   "outputs": [],
   "source": [
    "import numpy as np"
   ]
  },
  {
   "cell_type": "markdown",
   "metadata": {},
   "source": [
    "#### Print unit vector using list comprehension"
   ]
  },
  {
   "cell_type": "code",
   "execution_count": 5,
   "metadata": {},
   "outputs": [],
   "source": [
    "unit_vector=[[1 if i==j else 0 for i in range(7)] for j in range(7)]"
   ]
  },
  {
   "cell_type": "code",
   "execution_count": 6,
   "metadata": {},
   "outputs": [],
   "source": [
    "unit=(np.array(unit_vector).T)"
   ]
  },
  {
   "cell_type": "code",
   "execution_count": 7,
   "metadata": {},
   "outputs": [
    {
     "name": "stdout",
     "output_type": "stream",
     "text": [
      "[[1 0 0 0 0 0 0]\n",
      " [0 1 0 0 0 0 0]\n",
      " [0 0 1 0 0 0 0]\n",
      " [0 0 0 1 0 0 0]\n",
      " [0 0 0 0 1 0 0]\n",
      " [0 0 0 0 0 1 0]\n",
      " [0 0 0 0 0 0 1]]\n"
     ]
    }
   ],
   "source": [
    "print(unit)"
   ]
  },
  {
   "cell_type": "markdown",
   "metadata": {},
   "source": [
    "#### Solving for inverse using unit vectors"
   ]
  },
  {
   "cell_type": "code",
   "execution_count": 8,
   "metadata": {},
   "outputs": [],
   "source": [
    "inv7_=[np.linalg.solve(hilbertmatrix(7),unit[i])for i in range(7)]"
   ]
  },
  {
   "cell_type": "code",
   "execution_count": 9,
   "metadata": {},
   "outputs": [
    {
     "name": "stdout",
     "output_type": "stream",
     "text": [
      "[[ 4.900e+01 -1.176e+03  8.820e+03 -2.940e+04  4.851e+04 -3.881e+04\n",
      "   1.201e+04]\n",
      " [-1.176e+03  3.763e+04 -3.175e+05  1.129e+06 -1.940e+06  1.597e+06\n",
      "  -5.045e+05]\n",
      " [ 8.820e+03 -3.175e+05  2.858e+06 -1.058e+07  1.871e+07 -1.572e+07\n",
      "   5.045e+06]\n",
      " [-2.940e+04  1.129e+06 -1.058e+07  4.032e+07 -7.277e+07  6.209e+07\n",
      "  -2.018e+07]\n",
      " [ 4.851e+04 -1.940e+06  1.871e+07 -7.277e+07  1.334e+08 -1.153e+08\n",
      "   3.784e+07]\n",
      " [-3.881e+04  1.597e+06 -1.572e+07  6.209e+07 -1.153e+08  1.006e+08\n",
      "  -3.330e+07]\n",
      " [ 1.201e+04 -5.045e+05  5.045e+06 -2.018e+07  3.784e+07 -3.330e+07\n",
      "   1.110e+07]]\n"
     ]
    }
   ],
   "source": [
    "inv7_unit=(np.array(inv7_).T)\n",
    "print(inv7_unit)"
   ]
  },
  {
   "cell_type": "markdown",
   "metadata": {},
   "source": [
    "#### check inverse vectors with H7^(-1)"
   ]
  },
  {
   "cell_type": "code",
   "execution_count": 10,
   "metadata": {},
   "outputs": [],
   "source": [
    "H7inv_=np.linalg.inv(hilbertmatrix(7))"
   ]
  },
  {
   "cell_type": "code",
   "execution_count": 11,
   "metadata": {},
   "outputs": [
    {
     "name": "stdout",
     "output_type": "stream",
     "text": [
      "Inverse using np.linalg.inv:\n",
      "[[ 4.900e+01 -1.176e+03  8.820e+03 -2.940e+04  4.851e+04 -3.881e+04\n",
      "   1.201e+04]\n",
      " [-1.176e+03  3.763e+04 -3.175e+05  1.129e+06 -1.940e+06  1.597e+06\n",
      "  -5.045e+05]\n",
      " [ 8.820e+03 -3.175e+05  2.858e+06 -1.058e+07  1.871e+07 -1.572e+07\n",
      "   5.045e+06]\n",
      " [-2.940e+04  1.129e+06 -1.058e+07  4.032e+07 -7.277e+07  6.209e+07\n",
      "  -2.018e+07]\n",
      " [ 4.851e+04 -1.940e+06  1.871e+07 -7.277e+07  1.334e+08 -1.153e+08\n",
      "   3.784e+07]\n",
      " [-3.881e+04  1.597e+06 -1.572e+07  6.209e+07 -1.153e+08  1.006e+08\n",
      "  -3.330e+07]\n",
      " [ 1.201e+04 -5.045e+05  5.045e+06 -2.018e+07  3.784e+07 -3.330e+07\n",
      "   1.110e+07]]\n",
      "\n",
      "Difference between two matrices:\n",
      "[[0. 0. 0. 0. 0. 0. 0.]\n",
      " [0. 0. 0. 0. 0. 0. 0.]\n",
      " [0. 0. 0. 0. 0. 0. 0.]\n",
      " [0. 0. 0. 0. 0. 0. 0.]\n",
      " [0. 0. 0. 0. 0. 0. 0.]\n",
      " [0. 0. 0. 0. 0. 0. 0.]\n",
      " [0. 0. 0. 0. 0. 0. 0.]]\n"
     ]
    }
   ],
   "source": [
    "print('Inverse using np.linalg.inv:')\n",
    "print(H7inv_)\n",
    "print()\n",
    "print('Difference between two matrices:')\n",
    "print(H7inv_-inv7_unit)"
   ]
  },
  {
   "cell_type": "markdown",
   "metadata": {},
   "source": [
    "#### Check inverse vectors with hilbert 7^(-1)"
   ]
  },
  {
   "cell_type": "code",
   "execution_count": 12,
   "metadata": {},
   "outputs": [],
   "source": [
    "H7inv=np.linalg.inv(hilbert(7))"
   ]
  },
  {
   "cell_type": "code",
   "execution_count": 13,
   "metadata": {},
   "outputs": [
    {
     "name": "stdout",
     "output_type": "stream",
     "text": [
      "Inverse using np.linalg.invhilbert:\n",
      "[[ 4.900e+01 -1.176e+03  8.820e+03 -2.940e+04  4.851e+04 -3.881e+04\n",
      "   1.201e+04]\n",
      " [-1.176e+03  3.763e+04 -3.175e+05  1.129e+06 -1.940e+06  1.597e+06\n",
      "  -5.045e+05]\n",
      " [ 8.820e+03 -3.175e+05  2.858e+06 -1.058e+07  1.871e+07 -1.572e+07\n",
      "   5.045e+06]\n",
      " [-2.940e+04  1.129e+06 -1.058e+07  4.032e+07 -7.277e+07  6.209e+07\n",
      "  -2.018e+07]\n",
      " [ 4.851e+04 -1.940e+06  1.871e+07 -7.277e+07  1.334e+08 -1.153e+08\n",
      "   3.784e+07]\n",
      " [-3.881e+04  1.597e+06 -1.572e+07  6.209e+07 -1.153e+08  1.006e+08\n",
      "  -3.330e+07]\n",
      " [ 1.201e+04 -5.045e+05  5.045e+06 -2.018e+07  3.784e+07 -3.330e+07\n",
      "   1.110e+07]]\n",
      "\n",
      "Difference between two matrices:\n",
      "[[0. 0. 0. 0. 0. 0. 0.]\n",
      " [0. 0. 0. 0. 0. 0. 0.]\n",
      " [0. 0. 0. 0. 0. 0. 0.]\n",
      " [0. 0. 0. 0. 0. 0. 0.]\n",
      " [0. 0. 0. 0. 0. 0. 0.]\n",
      " [0. 0. 0. 0. 0. 0. 0.]\n",
      " [0. 0. 0. 0. 0. 0. 0.]]\n"
     ]
    }
   ],
   "source": [
    "print('Inverse using np.linalg.invhilbert:')\n",
    "print(H7inv)\n",
    "print()\n",
    "print('Difference between two matrices:')\n",
    "print(H7inv-inv7_unit)"
   ]
  },
  {
   "cell_type": "markdown",
   "metadata": {},
   "source": [
    "#### Multiply H7 and H7^(-1)"
   ]
  },
  {
   "cell_type": "code",
   "execution_count": 14,
   "metadata": {},
   "outputs": [
    {
     "name": "stdout",
     "output_type": "stream",
     "text": [
      "H7@inv(H7):\n",
      "[[ 1.000e+00  1.232e-11  9.884e-12  1.600e-10  2.321e-10 -1.333e-09\n",
      "   1.177e-11]\n",
      " [-2.274e-13  1.000e+00 -1.164e-10  0.000e+00 -9.313e-10 -9.313e-10\n",
      "   0.000e+00]\n",
      " [-2.257e-13  6.345e-12  1.000e+00  2.279e-10  5.945e-10 -1.450e-09\n",
      "  -1.672e-11]\n",
      " [ 2.031e-13 -8.621e-12  9.785e-11  1.000e+00  1.607e-09 -1.023e-09\n",
      "   6.161e-11]\n",
      " [-2.591e-13  1.923e-11  2.147e-12 -1.568e-10  1.000e+00  2.123e-10\n",
      "  -4.588e-10]\n",
      " [ 8.539e-13 -1.707e-11  1.901e-10 -2.947e-10  1.843e-09  1.000e+00\n",
      "   1.039e-10]\n",
      " [ 7.958e-13 -2.183e-11 -2.910e-10  2.328e-10  9.313e-10  1.397e-09\n",
      "   1.000e+00]]\n"
     ]
    }
   ],
   "source": [
    "print('H7@inv(H7):')\n",
    "print(hilbert(7)@H7inv)"
   ]
  },
  {
   "cell_type": "markdown",
   "metadata": {},
   "source": [
    "#### Substract the product from identity matrix e7"
   ]
  },
  {
   "cell_type": "code",
   "execution_count": 15,
   "metadata": {},
   "outputs": [
    {
     "name": "stdout",
     "output_type": "stream",
     "text": [
      "H7@inv(H7)-e(7):\n",
      "[[-1.927e-13  1.232e-11  9.884e-12  1.600e-10  2.321e-10 -1.333e-09\n",
      "   1.177e-11]\n",
      " [-2.274e-13  2.183e-11 -1.164e-10  0.000e+00 -9.313e-10 -9.313e-10\n",
      "   0.000e+00]\n",
      " [-2.257e-13  6.345e-12  1.758e-10  2.279e-10  5.945e-10 -1.450e-09\n",
      "  -1.672e-11]\n",
      " [ 2.031e-13 -8.621e-12  9.785e-11 -6.242e-10  1.607e-09 -1.023e-09\n",
      "   6.161e-11]\n",
      " [-2.591e-13  1.923e-11  2.147e-12 -1.568e-10  3.918e-10  2.123e-10\n",
      "  -4.588e-10]\n",
      " [ 8.539e-13 -1.707e-11  1.901e-10 -2.947e-10  1.843e-09 -2.019e-09\n",
      "   1.039e-10]\n",
      " [ 7.958e-13 -2.183e-11 -2.910e-10  2.328e-10  9.313e-10  1.397e-09\n",
      "   2.328e-10]]\n"
     ]
    }
   ],
   "source": [
    "#use np.dientiy generate unit matrix\n",
    "e7=np.identity(7)\n",
    "print('H7@inv(H7)-e(7):')\n",
    "print((hilbert(7)@H7inv)-e7)"
   ]
  },
  {
   "cell_type": "markdown",
   "metadata": {},
   "source": [
    "#### Invert and print H7^(-1)"
   ]
  },
  {
   "cell_type": "code",
   "execution_count": 16,
   "metadata": {},
   "outputs": [
    {
     "name": "stdout",
     "output_type": "stream",
     "text": [
      "inv(invH7):\n",
      "[[1.    0.5   0.333 0.25  0.2   0.167 0.143]\n",
      " [0.5   0.333 0.25  0.2   0.167 0.143 0.125]\n",
      " [0.333 0.25  0.2   0.167 0.143 0.125 0.111]\n",
      " [0.25  0.2   0.167 0.143 0.125 0.111 0.1  ]\n",
      " [0.2   0.167 0.143 0.125 0.111 0.1   0.091]\n",
      " [0.167 0.143 0.125 0.111 0.1   0.091 0.083]\n",
      " [0.143 0.125 0.111 0.1   0.091 0.083 0.077]]\n",
      "\n",
      "compare with hilbert(7):\n",
      "[[1.    0.5   0.333 0.25  0.2   0.167 0.143]\n",
      " [0.5   0.333 0.25  0.2   0.167 0.143 0.125]\n",
      " [0.333 0.25  0.2   0.167 0.143 0.125 0.111]\n",
      " [0.25  0.2   0.167 0.143 0.125 0.111 0.1  ]\n",
      " [0.2   0.167 0.143 0.125 0.111 0.1   0.091]\n",
      " [0.167 0.143 0.125 0.111 0.1   0.091 0.083]\n",
      " [0.143 0.125 0.111 0.1   0.091 0.083 0.077]]\n"
     ]
    }
   ],
   "source": [
    "H7inv=np.linalg.inv(hilbert(7))\n",
    "print('inv(invH7):')\n",
    "print(np.linalg.inv(H7inv))\n",
    "print()\n",
    "print('compare with hilbert(7):')\n",
    "print(hilbert(7))"
   ]
  },
  {
   "cell_type": "markdown",
   "metadata": {},
   "source": [
    "#### Substract from H7"
   ]
  },
  {
   "cell_type": "code",
   "execution_count": 17,
   "metadata": {},
   "outputs": [
    {
     "name": "stdout",
     "output_type": "stream",
     "text": [
      "inv(invH7)-hilbert(7):\n",
      "[[1.837e-10 1.612e-10 1.431e-10 1.285e-10 1.166e-10 1.066e-10 9.827e-11]\n",
      " [5.144e-11 4.987e-11 4.710e-11 4.410e-11 4.123e-11 3.857e-11 3.618e-11]\n",
      " [2.613e-11 2.826e-11 2.825e-11 2.740e-11 2.623e-11 2.497e-11 2.372e-11]\n",
      " [1.485e-11 1.829e-11 1.936e-11 1.938e-11 1.894e-11 1.829e-11 1.756e-11]\n",
      " [8.046e-12 1.209e-11 1.371e-11 1.423e-11 1.420e-11 1.392e-11 1.350e-11]\n",
      " [3.498e-12 7.833e-12 9.771e-12 1.058e-11 1.083e-11 1.078e-11 1.058e-11]\n",
      " [3.237e-13 4.780e-12 6.902e-12 7.904e-12 8.330e-12 8.446e-12 8.389e-12]]\n"
     ]
    }
   ],
   "source": [
    "print('inv(invH7)-hilbert(7):')\n",
    "print(np.linalg.inv(H7inv)-hilbert(7))"
   ]
  },
  {
   "cell_type": "code",
   "execution_count": null,
   "metadata": {},
   "outputs": [],
   "source": []
  }
 ],
 "metadata": {
  "kernelspec": {
   "display_name": "Python 3",
   "language": "python",
   "name": "python3"
  },
  "language_info": {
   "codemirror_mode": {
    "name": "ipython",
    "version": 3
   },
   "file_extension": ".py",
   "mimetype": "text/x-python",
   "name": "python",
   "nbconvert_exporter": "python",
   "pygments_lexer": "ipython3",
   "version": "3.7.3"
  }
 },
 "nbformat": 4,
 "nbformat_minor": 2
}
